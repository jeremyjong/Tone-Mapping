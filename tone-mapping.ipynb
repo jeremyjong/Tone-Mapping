{
 "cells": [
  {
   "cell_type": "code",
   "execution_count": 15,
   "metadata": {},
   "outputs": [],
   "source": [
    "import cv2\n",
    "import glob\n",
    "import numpy as np"
   ]
  },
  {
   "cell_type": "code",
   "execution_count": 16,
   "metadata": {},
   "outputs": [],
   "source": [
    "images = []\n",
    "for img in glob.glob(\".\\\\house\\\\*.jpg\"):\n",
    "    image = cv2.imread(img)\n",
    "    images.append(image)"
   ]
  },
  {
   "cell_type": "code",
   "execution_count": 17,
   "metadata": {},
   "outputs": [],
   "source": [
    "exposure_times = np.array([100, 250, 500, 800], dtype=np.float32)\n",
    "\n",
    "alignMTB = cv2.createAlignMTB()\n",
    "alignMTB.process(images, images)"
   ]
  },
  {
   "cell_type": "code",
   "execution_count": 18,
   "metadata": {},
   "outputs": [
    {
     "data": {
      "text/plain": [
       "True"
      ]
     },
     "execution_count": 18,
     "metadata": {},
     "output_type": "execute_result"
    }
   ],
   "source": [
    "# Merge exposures to HDR image\n",
    "merge_debevec = cv2.createMergeDebevec()\n",
    "hdr_debevec = merge_debevec.process(images, times=exposure_times.copy())\n",
    "\n",
    "merge_robertson = cv2.createMergeRobertson()\n",
    "hdr_robertson = merge_robertson.process(images, times=exposure_times.copy())\n",
    "\n",
    "# Tonemap HDR image\n",
    "tonemap1 = cv2.createTonemap(gamma=2.2)\n",
    "res_debevec = tonemap1.process(hdr_debevec.copy())\n",
    "\n",
    "# Exposure fusion using Mertens\n",
    "merge_mertens = cv2.createMergeMertens()\n",
    "res_mertens = merge_mertens.process(images)\n",
    "\n",
    "# Convert datatype to 8-bit and save\n",
    "res_debevec_8bit = np.clip(res_debevec*255, 0, 255).astype('uint8')\n",
    "res_mertens_8bit = np.clip(res_mertens*255, 0, 255).astype('uint8')\n",
    "\n",
    "cv2.imwrite(r\"ldr_debevec.jpg\", res_debevec_8bit)\n",
    "cv2.imwrite(r\"fusion_mertens.jpg\", res_mertens_8bit)"
   ]
  },
  {
   "cell_type": "code",
   "execution_count": null,
   "metadata": {},
   "outputs": [],
   "source": []
  }
 ],
 "metadata": {
  "kernelspec": {
   "display_name": "Python 3.9.7 ('base')",
   "language": "python",
   "name": "python3"
  },
  "language_info": {
   "codemirror_mode": {
    "name": "ipython",
    "version": 3
   },
   "file_extension": ".py",
   "mimetype": "text/x-python",
   "name": "python",
   "nbconvert_exporter": "python",
   "pygments_lexer": "ipython3",
   "version": "3.9.7"
  },
  "orig_nbformat": 4,
  "vscode": {
   "interpreter": {
    "hash": "b772300d5800c9e502f3c68663e40271aa107b5dc29499a66fc7b8e978e1e544"
   }
  }
 },
 "nbformat": 4,
 "nbformat_minor": 2
}
